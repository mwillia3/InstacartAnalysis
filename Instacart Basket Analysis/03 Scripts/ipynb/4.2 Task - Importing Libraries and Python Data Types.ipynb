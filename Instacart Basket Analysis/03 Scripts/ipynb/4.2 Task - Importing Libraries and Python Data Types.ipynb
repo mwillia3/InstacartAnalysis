{
 "cells": [
  {
   "cell_type": "markdown",
   "id": "efea1541",
   "metadata": {},
   "source": [
    "#01. Importing Libraries"
   ]
  },
  {
   "cell_type": "code",
   "execution_count": 1,
   "id": "931313ab",
   "metadata": {},
   "outputs": [],
   "source": [
    "#Import Libraries\n",
    "import pandas as pd\n",
    "import numpy as np\n",
    "import os"
   ]
  },
  {
   "cell_type": "markdown",
   "id": "bb00b53c",
   "metadata": {},
   "source": [
    "#02. Data Types"
   ]
  },
  {
   "cell_type": "markdown",
   "id": "4c3cf859",
   "metadata": {},
   "source": [
    "##Step 7: Code 3 different ways of reaching a result of 100 by adding or subtracting numeric variables."
   ]
  },
  {
   "cell_type": "code",
   "execution_count": 2,
   "id": "2c94ec6b",
   "metadata": {},
   "outputs": [],
   "source": [
    "a=60\n",
    "b=50\n",
    "c=10"
   ]
  },
  {
   "cell_type": "code",
   "execution_count": 3,
   "id": "b81cfd02",
   "metadata": {},
   "outputs": [
    {
     "data": {
      "text/plain": [
       "100"
      ]
     },
     "execution_count": 3,
     "metadata": {},
     "output_type": "execute_result"
    }
   ],
   "source": [
    "###1.\n",
    "a+b-c"
   ]
  },
  {
   "cell_type": "code",
   "execution_count": 5,
   "id": "40416446",
   "metadata": {},
   "outputs": [
    {
     "data": {
      "text/plain": [
       "100"
      ]
     },
     "execution_count": 5,
     "metadata": {},
     "output_type": "execute_result"
    }
   ],
   "source": [
    "###2.\n",
    "a+a-c-c"
   ]
  },
  {
   "cell_type": "code",
   "execution_count": 6,
   "id": "f6a0395f",
   "metadata": {},
   "outputs": [
    {
     "data": {
      "text/plain": [
       "100"
      ]
     },
     "execution_count": 6,
     "metadata": {},
     "output_type": "execute_result"
    }
   ],
   "source": [
    "###3.\n",
    "b+b"
   ]
  },
  {
   "cell_type": "markdown",
   "id": "6f5d7903",
   "metadata": {},
   "source": [
    "##Step 8: Code 2 floating-point variables and divide them by each other."
   ]
  },
  {
   "cell_type": "code",
   "execution_count": 10,
   "id": "b4df61e4",
   "metadata": {},
   "outputs": [],
   "source": [
    "d=50.5\n",
    "e=2.25"
   ]
  },
  {
   "cell_type": "code",
   "execution_count": 11,
   "id": "579a7c0e",
   "metadata": {},
   "outputs": [
    {
     "data": {
      "text/plain": [
       "22.444444444444443"
      ]
     },
     "execution_count": 11,
     "metadata": {},
     "output_type": "execute_result"
    }
   ],
   "source": [
    "d/e"
   ]
  },
  {
   "cell_type": "markdown",
   "id": "aa710a6c",
   "metadata": {},
   "source": [
    "##Step 9: Construct a short word made of separate strings."
   ]
  },
  {
   "cell_type": "code",
   "execution_count": 12,
   "id": "f3de8cf2",
   "metadata": {},
   "outputs": [],
   "source": [
    "f='c'\n",
    "g='a'\n",
    "h='t'"
   ]
  },
  {
   "cell_type": "code",
   "execution_count": 14,
   "id": "a013a440",
   "metadata": {},
   "outputs": [
    {
     "data": {
      "text/plain": [
       "'cat'"
      ]
     },
     "execution_count": 14,
     "metadata": {},
     "output_type": "execute_result"
    }
   ],
   "source": [
    "f+g+h"
   ]
  },
  {
   "cell_type": "markdown",
   "id": "f7b6ed41",
   "metadata": {},
   "source": [
    "##Step 10. Construct 2 short sentences made of separate strings."
   ]
  },
  {
   "cell_type": "code",
   "execution_count": 17,
   "id": "676bd60e",
   "metadata": {},
   "outputs": [],
   "source": [
    "i='The cat '\n",
    "j='is '\n",
    "k= 'fat.'\n",
    "l= 'sat.'"
   ]
  },
  {
   "cell_type": "code",
   "execution_count": 18,
   "id": "d917cfa6",
   "metadata": {},
   "outputs": [
    {
     "data": {
      "text/plain": [
       "'The cat is fat.'"
      ]
     },
     "execution_count": 18,
     "metadata": {},
     "output_type": "execute_result"
    }
   ],
   "source": [
    "###Sentence 1\n",
    "i+j+k"
   ]
  },
  {
   "cell_type": "code",
   "execution_count": 19,
   "id": "dd39dc7f",
   "metadata": {},
   "outputs": [
    {
     "data": {
      "text/plain": [
       "'The cat sat.'"
      ]
     },
     "execution_count": 19,
     "metadata": {},
     "output_type": "execute_result"
    }
   ],
   "source": [
    "###Sentence 2\n",
    "i+l"
   ]
  },
  {
   "cell_type": "markdown",
   "id": "4bbd6342",
   "metadata": {},
   "source": [
    "##Bonus: Include a command that makes a string appear 100 times."
   ]
  },
  {
   "cell_type": "code",
   "execution_count": 20,
   "id": "06d360f8",
   "metadata": {},
   "outputs": [
    {
     "data": {
      "text/plain": [
       "'catcatcatcatcatcatcatcatcatcatcatcatcatcatcatcatcatcatcatcatcatcatcatcatcatcatcatcatcatcatcatcatcatcatcatcatcatcatcatcatcatcatcatcatcatcatcatcatcatcatcatcatcatcatcatcatcatcatcatcatcatcatcatcatcatcatcatcatcatcatcatcatcatcatcatcatcatcatcatcatcatcatcatcatcatcatcatcatcatcatcatcatcatcatcatcatcatcatcatcat'"
      ]
     },
     "execution_count": 20,
     "metadata": {},
     "output_type": "execute_result"
    }
   ],
   "source": [
    "m= 'cat'\n",
    "m*100"
   ]
  }
 ],
 "metadata": {
  "kernelspec": {
   "display_name": "Python 3 (ipykernel)",
   "language": "python",
   "name": "python3"
  },
  "language_info": {
   "codemirror_mode": {
    "name": "ipython",
    "version": 3
   },
   "file_extension": ".py",
   "mimetype": "text/x-python",
   "name": "python",
   "nbconvert_exporter": "python",
   "pygments_lexer": "ipython3",
   "version": "3.11.5"
  }
 },
 "nbformat": 4,
 "nbformat_minor": 5
}
